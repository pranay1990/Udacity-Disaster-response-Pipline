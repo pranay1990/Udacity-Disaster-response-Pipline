{
 "cells": [
  {
   "cell_type": "markdown",
   "metadata": {},
   "source": [
    "# ML Pipeline Preparation\n",
    "Follow the instructions below to help you create your ML pipeline.\n",
    "### 1. Import libraries and load data from database.\n",
    "- Import Python libraries\n",
    "- Load dataset from database with [`read_sql_table`](https://pandas.pydata.org/pandas-docs/stable/generated/pandas.read_sql_table.html)\n",
    "- Define feature and target variables X and Y"
   ]
  },
  {
   "cell_type": "code",
   "execution_count": 1,
   "metadata": {},
   "outputs": [],
   "source": [
    "# import libraries\n",
    "import sqlite3\n",
    "import pandas as pd\n",
    "import numpy as np\n",
    "from sqlalchemy import create_engine"
   ]
  },
  {
   "cell_type": "code",
   "execution_count": 2,
   "metadata": {},
   "outputs": [],
   "source": [
    "# load data from database\n",
    "engine = create_engine('sqlite:///Disaster_Response_Database.db')\n",
    "df = pd.read_sql(\"SELECT * FROM Disaster_Response_Database\", engine)\n",
    "y_cols=[]\n",
    "for i in df.columns:\n",
    "    if i not in ['id','message','original','genre']:\n",
    "        y_cols.append(i)\n",
    "df=df.dropna(subset=y_cols)\n",
    "X = df['message']\n",
    "\n",
    "y=df[y_cols]"
   ]
  },
  {
   "cell_type": "code",
   "execution_count": 6,
   "metadata": {},
   "outputs": [
    {
     "name": "stdout",
     "output_type": "stream",
     "text": [
      "(26039,)\n"
     ]
    },
    {
     "data": {
      "text/plain": [
       "0"
      ]
     },
     "execution_count": 6,
     "metadata": {},
     "output_type": "execute_result"
    }
   ],
   "source": [
    "print(X.shape)\n",
    "X.isnull().sum()"
   ]
  },
  {
   "cell_type": "code",
   "execution_count": 7,
   "metadata": {},
   "outputs": [
    {
     "name": "stdout",
     "output_type": "stream",
     "text": [
      "(26039, 36)\n"
     ]
    },
    {
     "data": {
      "text/plain": [
       "related                   0\n",
       "request                   0\n",
       "offer                     0\n",
       "aid_related               0\n",
       "medical_help              0\n",
       "medical_products          0\n",
       "search_and_rescue         0\n",
       "security                  0\n",
       "military                  0\n",
       "child_alone               0\n",
       "water                     0\n",
       "food                      0\n",
       "shelter                   0\n",
       "clothing                  0\n",
       "money                     0\n",
       "missing_people            0\n",
       "refugees                  0\n",
       "death                     0\n",
       "other_aid                 0\n",
       "infrastructure_related    0\n",
       "transport                 0\n",
       "buildings                 0\n",
       "electricity               0\n",
       "tools                     0\n",
       "hospitals                 0\n",
       "shops                     0\n",
       "aid_centers               0\n",
       "other_infrastructure      0\n",
       "weather_related           0\n",
       "floods                    0\n",
       "storm                     0\n",
       "fire                      0\n",
       "earthquake                0\n",
       "cold                      0\n",
       "other_weather             0\n",
       "direct_report             0\n",
       "dtype: int64"
      ]
     },
     "execution_count": 7,
     "metadata": {},
     "output_type": "execute_result"
    }
   ],
   "source": [
    "print(y.shape)\n",
    "y.isnull().sum()"
   ]
  },
  {
   "cell_type": "markdown",
   "metadata": {},
   "source": [
    "### 2. Write a tokenization function to process your text data"
   ]
  },
  {
   "cell_type": "code",
   "execution_count": 3,
   "metadata": {},
   "outputs": [
    {
     "name": "stderr",
     "output_type": "stream",
     "text": [
      "[nltk_data] Downloading package punkt to /home/pranay/nltk_data...\n",
      "[nltk_data]   Package punkt is already up-to-date!\n",
      "[nltk_data] Downloading package stopwords to /home/pranay/nltk_data...\n",
      "[nltk_data]   Package stopwords is already up-to-date!\n",
      "[nltk_data] Downloading package wordnet to /home/pranay/nltk_data...\n",
      "[nltk_data]   Package wordnet is already up-to-date!\n",
      "[nltk_data] Downloading package averaged_perceptron_tagger to\n",
      "[nltk_data]     /home/pranay/nltk_data...\n",
      "[nltk_data]   Package averaged_perceptron_tagger is already up-to-\n",
      "[nltk_data]       date!\n"
     ]
    },
    {
     "data": {
      "text/plain": [
       "True"
      ]
     },
     "execution_count": 3,
     "metadata": {},
     "output_type": "execute_result"
    }
   ],
   "source": [
    "import nltk\n",
    "from nltk.corpus import stopwords\n",
    "from nltk.stem.wordnet import WordNetLemmatizer\n",
    "from nltk.tokenize import word_tokenize, sent_tokenize\n",
    "from nltk import pos_tag\n",
    "import re\n",
    "\n",
    "nltk.download('punkt')\n",
    "nltk.download('stopwords')\n",
    "nltk.download('wordnet')\n",
    "nltk.download('averaged_perceptron_tagger')"
   ]
  },
  {
   "cell_type": "code",
   "execution_count": 4,
   "metadata": {},
   "outputs": [],
   "source": [
    "stop_words = stopwords.words(\"english\")\n",
    "lemmatizer = WordNetLemmatizer()"
   ]
  },
  {
   "cell_type": "code",
   "execution_count": 5,
   "metadata": {},
   "outputs": [],
   "source": [
    "def tokenize(text):\n",
    "    # normalize case and remove punctuation\n",
    "    text = re.sub(r\"[^a-zA-Z0-9]\", \" \", text.lower())\n",
    "    \n",
    "    # tokenize text\n",
    "    tokens = word_tokenize(text)\n",
    "    \n",
    "    # lemmatize and remove the stop words\n",
    "    tokens = [lemmatizer.lemmatize(word) for word in tokens if word not in stop_words]    \n",
    "    \n",
    "    return tokens"
   ]
  },
  {
   "cell_type": "markdown",
   "metadata": {},
   "source": [
    "### 3. Build a machine learning pipeline\n",
    "This machine pipeline should take in the `message` column as input and output classification results on the other 36 categories in the dataset. You may find the [MultiOutputClassifier](http://scikit-learn.org/stable/modules/generated/sklearn.multioutput.MultiOutputClassifier.html) helpful for predicting multiple target variables."
   ]
  },
  {
   "cell_type": "code",
   "execution_count": 6,
   "metadata": {},
   "outputs": [],
   "source": [
    "from sklearn.feature_extraction.text import CountVectorizer, TfidfTransformer\n",
    "from sklearn.neighbors import KNeighborsClassifier\n",
    "from sklearn.pipeline import Pipeline, FeatureUnion\n",
    "from sklearn.model_selection import GridSearchCV\n",
    "from sklearn.multioutput import MultiOutputClassifier\n",
    "\n",
    "pipeline = Pipeline([('vect',CountVectorizer(tokenizer=tokenize)),\\\n",
    "                     ('transformer',TfidfTransformer(smooth_idf=False)),\\\n",
    "                     ('clf',MultiOutputClassifier(KNeighborsClassifier()))\n",
    "                    ])"
   ]
  },
  {
   "cell_type": "markdown",
   "metadata": {},
   "source": [
    "### 4. Train pipeline\n",
    "- Split data into train and test sets\n",
    "- Train pipeline"
   ]
  },
  {
   "cell_type": "code",
   "execution_count": 7,
   "metadata": {},
   "outputs": [],
   "source": [
    "from sklearn.model_selection import train_test_split\n",
    "X_train, X_test, y_train, y_test = train_test_split(X, y,test_size=0.25,random_state=42)"
   ]
  },
  {
   "cell_type": "code",
   "execution_count": 13,
   "metadata": {},
   "outputs": [
    {
     "data": {
      "text/plain": [
       "Pipeline(steps=[('vect',\n",
       "                 CountVectorizer(tokenizer=<function tokenize at 0x7f16d14b7f80>)),\n",
       "                ('transformer', TfidfTransformer(smooth_idf=False)),\n",
       "                ('clf',\n",
       "                 MultiOutputClassifier(estimator=KNeighborsClassifier()))])"
      ]
     },
     "execution_count": 13,
     "metadata": {},
     "output_type": "execute_result"
    }
   ],
   "source": [
    "pipeline.fit(X_train,y_train)"
   ]
  },
  {
   "cell_type": "markdown",
   "metadata": {},
   "source": [
    "### 5. Test your model\n",
    "Report the f1 score, precision and recall for each output category of the dataset. You can do this by iterating through the columns and calling sklearn's `classification_report` on each."
   ]
  },
  {
   "cell_type": "code",
   "execution_count": 14,
   "metadata": {},
   "outputs": [
    {
     "data": {
      "text/plain": [
       "array([[1., 0., 0., ..., 0., 0., 0.],\n",
       "       [1., 0., 0., ..., 0., 0., 0.],\n",
       "       [1., 0., 0., ..., 0., 0., 0.],\n",
       "       ...,\n",
       "       [1., 0., 0., ..., 0., 0., 0.],\n",
       "       [1., 0., 0., ..., 0., 0., 0.],\n",
       "       [1., 0., 0., ..., 0., 0., 0.]])"
      ]
     },
     "execution_count": 14,
     "metadata": {},
     "output_type": "execute_result"
    }
   ],
   "source": [
    "from sklearn.metrics import classification_report\n",
    "y_pred=pipeline.predict(X_test)      \n",
    "y_pred"
   ]
  },
  {
   "cell_type": "code",
   "execution_count": 15,
   "metadata": {},
   "outputs": [
    {
     "name": "stderr",
     "output_type": "stream",
     "text": [
      "/home/pranay/anaconda3/lib/python3.7/site-packages/sklearn/metrics/_classification.py:1221: UndefinedMetricWarning: Precision and F-score are ill-defined and being set to 0.0 in labels with no predicted samples. Use `zero_division` parameter to control this behavior.\n",
      "  _warn_prf(average, modifier, msg_start, len(result))\n",
      "/home/pranay/anaconda3/lib/python3.7/site-packages/sklearn/metrics/_classification.py:1221: UndefinedMetricWarning: Recall and F-score are ill-defined and being set to 0.0 in labels with no true samples. Use `zero_division` parameter to control this behavior.\n",
      "  _warn_prf(average, modifier, msg_start, len(result))\n"
     ]
    },
    {
     "name": "stdout",
     "output_type": "stream",
     "text": [
      "                        precision    recall  f1-score   support\n",
      "\n",
      "               related       0.76      0.92      0.83      4931\n",
      "               request       0.35      0.02      0.05      1138\n",
      "                 offer       0.00      0.00      0.00        32\n",
      "           aid_related       0.32      0.01      0.03      2668\n",
      "          medical_help       0.00      0.00      0.00       507\n",
      "      medical_products       0.00      0.00      0.00       327\n",
      "     search_and_rescue       0.00      0.00      0.00       200\n",
      "              security       0.00      0.00      0.00       125\n",
      "              military       0.00      0.00      0.00       197\n",
      "           child_alone       0.00      0.00      0.00         0\n",
      "                 water       0.00      0.00      0.00       412\n",
      "                  food       0.00      0.00      0.00       726\n",
      "               shelter       0.00      0.00      0.00       585\n",
      "              clothing       0.00      0.00      0.00        93\n",
      "                 money       0.00      0.00      0.00       153\n",
      "        missing_people       0.00      0.00      0.00        83\n",
      "              refugees       0.00      0.00      0.00       214\n",
      "                 death       0.00      0.00      0.00       279\n",
      "             other_aid       0.00      0.00      0.00       853\n",
      "infrastructure_related       0.00      0.00      0.00       411\n",
      "             transport       0.00      0.00      0.00       269\n",
      "             buildings       0.00      0.00      0.00       318\n",
      "           electricity       0.00      0.00      0.00       128\n",
      "                 tools       0.00      0.00      0.00        41\n",
      "             hospitals       0.00      0.00      0.00        72\n",
      "                 shops       0.00      0.00      0.00        29\n",
      "           aid_centers       0.00      0.00      0.00        72\n",
      "  other_infrastructure       0.00      0.00      0.00       278\n",
      "       weather_related       0.47      0.14      0.21      1808\n",
      "                floods       0.15      0.01      0.02       535\n",
      "                 storm       0.38      0.01      0.01       598\n",
      "                  fire       0.00      0.00      0.00        62\n",
      "            earthquake       0.76      0.05      0.09       616\n",
      "                  cold       0.00      0.00      0.00       138\n",
      "         other_weather       1.00      0.00      0.01       348\n",
      "         direct_report       0.30      0.01      0.03      1284\n",
      "\n",
      "             micro avg       0.72      0.24      0.36     20530\n",
      "             macro avg       0.12      0.03      0.04     20530\n",
      "          weighted avg       0.36      0.24      0.23     20530\n",
      "           samples avg       0.68      0.31      0.37     20530\n",
      "\n"
     ]
    },
    {
     "name": "stderr",
     "output_type": "stream",
     "text": [
      "/home/pranay/anaconda3/lib/python3.7/site-packages/sklearn/metrics/_classification.py:1221: UndefinedMetricWarning: Precision and F-score are ill-defined and being set to 0.0 in samples with no predicted labels. Use `zero_division` parameter to control this behavior.\n",
      "  _warn_prf(average, modifier, msg_start, len(result))\n",
      "/home/pranay/anaconda3/lib/python3.7/site-packages/sklearn/metrics/_classification.py:1221: UndefinedMetricWarning: Recall and F-score are ill-defined and being set to 0.0 in samples with no true labels. Use `zero_division` parameter to control this behavior.\n",
      "  _warn_prf(average, modifier, msg_start, len(result))\n"
     ]
    }
   ],
   "source": [
    "print(classification_report(y_test.values, y_pred, target_names=y_cols) ) "
   ]
  },
  {
   "cell_type": "markdown",
   "metadata": {},
   "source": [
    "### 6. Improve your model\n",
    "Use grid search to find better parameters. "
   ]
  },
  {
   "cell_type": "markdown",
   "metadata": {},
   "source": [
    "#### In the code cell below we are optimizing the MultiOutputClassifier KNearestNeighbor classfier"
   ]
  },
  {
   "cell_type": "code",
   "execution_count": 16,
   "metadata": {},
   "outputs": [],
   "source": [
    "parameters = {'clf__estimator__p': [1, 2]\n",
    "             }\n",
    "\n",
    "cv = GridSearchCV(pipeline, param_grid=parameters)"
   ]
  },
  {
   "cell_type": "markdown",
   "metadata": {},
   "source": [
    "### 7. Test your model\n",
    "Show the accuracy, precision, and recall of the tuned model.  \n",
    "\n",
    "Since this project focuses on code quality, process, and  pipelines, there is no minimum performance metric needed to pass. However, make sure to fine tune your models for accuracy, precision and recall to make your project stand out - especially for your portfolio!"
   ]
  },
  {
   "cell_type": "code",
   "execution_count": 17,
   "metadata": {},
   "outputs": [
    {
     "data": {
      "text/plain": [
       "GridSearchCV(estimator=Pipeline(steps=[('vect',\n",
       "                                        CountVectorizer(tokenizer=<function tokenize at 0x7f16d14b7f80>)),\n",
       "                                       ('transformer',\n",
       "                                        TfidfTransformer(smooth_idf=False)),\n",
       "                                       ('clf',\n",
       "                                        MultiOutputClassifier(estimator=KNeighborsClassifier()))]),\n",
       "             param_grid={'clf__estimator__p': [1, 2]})"
      ]
     },
     "execution_count": 17,
     "metadata": {},
     "output_type": "execute_result"
    }
   ],
   "source": [
    "cv.fit(X_train,y_train)"
   ]
  },
  {
   "cell_type": "code",
   "execution_count": 18,
   "metadata": {},
   "outputs": [],
   "source": [
    "y_pred2=cv.predict(X_test)"
   ]
  },
  {
   "cell_type": "code",
   "execution_count": 19,
   "metadata": {},
   "outputs": [
    {
     "name": "stderr",
     "output_type": "stream",
     "text": [
      "/home/pranay/anaconda3/lib/python3.7/site-packages/sklearn/metrics/_classification.py:1221: UndefinedMetricWarning: Precision and F-score are ill-defined and being set to 0.0 in labels with no predicted samples. Use `zero_division` parameter to control this behavior.\n",
      "  _warn_prf(average, modifier, msg_start, len(result))\n",
      "/home/pranay/anaconda3/lib/python3.7/site-packages/sklearn/metrics/_classification.py:1221: UndefinedMetricWarning: Recall and F-score are ill-defined and being set to 0.0 in labels with no true samples. Use `zero_division` parameter to control this behavior.\n",
      "  _warn_prf(average, modifier, msg_start, len(result))\n"
     ]
    },
    {
     "name": "stdout",
     "output_type": "stream",
     "text": [
      "                        precision    recall  f1-score   support\n",
      "\n",
      "               related       0.76      0.83      0.79      4931\n",
      "               request       0.33      0.02      0.04      1138\n",
      "                 offer       0.00      0.00      0.00        32\n",
      "           aid_related       0.29      0.01      0.02      2668\n",
      "          medical_help       0.00      0.00      0.00       507\n",
      "      medical_products       0.00      0.00      0.00       327\n",
      "     search_and_rescue       0.00      0.00      0.00       200\n",
      "              security       0.00      0.00      0.00       125\n",
      "              military       0.00      0.00      0.00       197\n",
      "           child_alone       0.00      0.00      0.00         0\n",
      "                 water       0.00      0.00      0.00       412\n",
      "                  food       0.20      0.00      0.00       726\n",
      "               shelter       0.00      0.00      0.00       585\n",
      "              clothing       0.00      0.00      0.00        93\n",
      "                 money       0.00      0.00      0.00       153\n",
      "        missing_people       0.00      0.00      0.00        83\n",
      "              refugees       0.00      0.00      0.00       214\n",
      "                 death       0.00      0.00      0.00       279\n",
      "             other_aid       0.00      0.00      0.00       853\n",
      "infrastructure_related       0.00      0.00      0.00       411\n",
      "             transport       0.00      0.00      0.00       269\n",
      "             buildings       0.00      0.00      0.00       318\n",
      "           electricity       0.00      0.00      0.00       128\n",
      "                 tools       0.00      0.00      0.00        41\n",
      "             hospitals       0.00      0.00      0.00        72\n",
      "                 shops       0.00      0.00      0.00        29\n",
      "           aid_centers       0.00      0.00      0.00        72\n",
      "  other_infrastructure       0.00      0.00      0.00       278\n",
      "       weather_related       0.49      0.10      0.16      1808\n",
      "                floods       0.18      0.00      0.01       535\n",
      "                 storm       0.42      0.01      0.02       598\n",
      "                  fire       0.00      0.00      0.00        62\n",
      "            earthquake       0.84      0.05      0.10       616\n",
      "                  cold       0.00      0.00      0.00       138\n",
      "         other_weather       1.00      0.00      0.01       348\n",
      "         direct_report       0.33      0.01      0.03      1284\n",
      "\n",
      "             micro avg       0.73      0.21      0.33     20530\n",
      "             macro avg       0.13      0.03      0.03     20530\n",
      "          weighted avg       0.37      0.21      0.22     20530\n",
      "           samples avg       0.62      0.28      0.34     20530\n",
      "\n"
     ]
    },
    {
     "name": "stderr",
     "output_type": "stream",
     "text": [
      "/home/pranay/anaconda3/lib/python3.7/site-packages/sklearn/metrics/_classification.py:1221: UndefinedMetricWarning: Precision and F-score are ill-defined and being set to 0.0 in samples with no predicted labels. Use `zero_division` parameter to control this behavior.\n",
      "  _warn_prf(average, modifier, msg_start, len(result))\n",
      "/home/pranay/anaconda3/lib/python3.7/site-packages/sklearn/metrics/_classification.py:1221: UndefinedMetricWarning: Recall and F-score are ill-defined and being set to 0.0 in samples with no true labels. Use `zero_division` parameter to control this behavior.\n",
      "  _warn_prf(average, modifier, msg_start, len(result))\n"
     ]
    }
   ],
   "source": [
    "print(classification_report(y_test, y_pred2, target_names=y_cols) ) "
   ]
  },
  {
   "cell_type": "code",
   "execution_count": 34,
   "metadata": {},
   "outputs": [
    {
     "name": "stdout",
     "output_type": "stream",
     "text": [
      "related                   19953.0\n",
      "request                    4439.0\n",
      "offer                       118.0\n",
      "aid_related               10786.0\n",
      "medical_help               2071.0\n",
      "medical_products           1300.0\n",
      "search_and_rescue           723.0\n",
      "security                    469.0\n",
      "military                    854.0\n",
      "child_alone                   0.0\n",
      "water                      1655.0\n",
      "food                       2906.0\n",
      "shelter                    2295.0\n",
      "clothing                    399.0\n",
      "money                       601.0\n",
      "missing_people              298.0\n",
      "refugees                    869.0\n",
      "death                      1186.0\n",
      "other_aid                  3425.0\n",
      "infrastructure_related     1695.0\n",
      "transport                  1193.0\n",
      "buildings                  1325.0\n",
      "electricity                 529.0\n",
      "tools                       158.0\n",
      "hospitals                   281.0\n",
      "shops                       119.0\n",
      "aid_centers                 306.0\n",
      "other_infrastructure       1145.0\n",
      "weather_related            7250.0\n",
      "floods                     2145.0\n",
      "storm                      2433.0\n",
      "fire                        280.0\n",
      "earthquake                 2441.0\n",
      "cold                        520.0\n",
      "other_weather              1362.0\n",
      "direct_report              5034.0\n",
      "Name: Total, dtype: float64\n"
     ]
    },
    {
     "data": {
      "image/png": "[encoded data removed]",
      "text/plain": [
       "<Figure size 1224x360 with 1 Axes>"
      ]
     },
     "metadata": {
      "needs_background": "light"
     },
     "output_type": "display_data"
    }
   ],
   "source": [
    "import matplotlib.pyplot as plt\n",
    "plt.figure(figsize = (17,5))\n",
    "y_sum=y.sum()\n",
    "\n",
    "y_sum.name=\"Total\"\n",
    "print(y_sum)\n",
    "ax=y_sum.plot(kind='bar')\n",
    "plt.ylabel(\"Frequency of category\",fontsize=16)\n",
    "plt.xlabel(\"Categories\",fontsize=16)\n",
    "plt.savefig('y_sum.png', dpi=400, bbox_inches='tight')"
   ]
  },
  {
   "cell_type": "markdown",
   "metadata": {},
   "source": [
    "#### From the above figure we observe that many categories has very number of observations, therefore for many categories we were observing precision and recall both coming out to be zero. This led to the *UndefinedMetricWarning*"
   ]
  },
  {
   "cell_type": "markdown",
   "metadata": {},
   "source": [
    "### 8. Try improving your model further. Here are a few ideas:\n",
    "* try other machine learning algorithms\n",
    "* add other features besides the TF-IDF"
   ]
  },
  {
   "cell_type": "code",
   "execution_count": 8,
   "metadata": {},
   "outputs": [],
   "source": [
    "from sklearn.base import BaseEstimator, TransformerMixin"
   ]
  },
  {
   "cell_type": "markdown",
   "metadata": {},
   "source": [
    "#### We have custom made two custom tranformers: NounCounter and VerbCounter. These transformers count number of noun (NounCounter) and verbs (VerbCounter) in a given text. On literature survey we found that these features will help us to classify the text better, and the reference can be found [here](https://www.analyticsvidhya.com/blog/2018/04/a-comprehensive-guide-to-understand-and-implement-text-classification-in-python/)"
   ]
  },
  {
   "cell_type": "code",
   "execution_count": 9,
   "metadata": {},
   "outputs": [],
   "source": [
    "class NounCounter(BaseEstimator, TransformerMixin):\n",
    "    \n",
    "    def noun_counter(self,text):\n",
    "        sentence_list = sent_tokenize(text)\n",
    "        count=0\n",
    "        for i in sentence_list:\n",
    "            word_list=word_tokenize(i)\n",
    "            pos_words=pos_tag(word_list)\n",
    "            for ii,jj in pos_words:\n",
    "                if jj in ['NN','NNS','NNP','NNPS']:\n",
    "                    count=count+1\n",
    "        return count\n",
    "    \n",
    "    def fit(self, X, y=None):\n",
    "        return self\n",
    "    \n",
    "    def transform(self, X):\n",
    "        X_noun_counted = pd.Series(X).apply(self.noun_counter)\n",
    "        return pd.DataFrame(X_noun_counted)\n",
    "                \n",
    "\n",
    "class VerbCounter(BaseEstimator, TransformerMixin):\n",
    "    \n",
    "    def verb_counter(self,text):\n",
    "        sentence_list = sent_tokenize(text)\n",
    "        count=0\n",
    "        for i in sentence_list:\n",
    "            word_list=word_tokenize(i)\n",
    "            pos_words=pos_tag(word_list)\n",
    "            for ii,jj in pos_words:\n",
    "                if jj in ['VB','VBD','VBG','VBN','VBP','VBZ']:\n",
    "                    count=count+1\n",
    "        return count\n",
    "    \n",
    "    def fit(self, X, y=None):\n",
    "        return self\n",
    "    \n",
    "    def transform(self, X):\n",
    "        X_verb_counted = pd.Series(X).apply(self.verb_counter)\n",
    "        return pd.DataFrame(X_verb_counted)"
   ]
  },
  {
   "cell_type": "markdown",
   "metadata": {},
   "source": [
    "#### The new Classifier we are trying is the Random forest classifier"
   ]
  },
  {
   "cell_type": "code",
   "execution_count": 10,
   "metadata": {},
   "outputs": [],
   "source": [
    "from sklearn.ensemble import RandomForestClassifier\n",
    "\n",
    "pipeline2 = Pipeline([\\\n",
    "                      ('features',FeatureUnion([\\\n",
    "                                                ('nlp_pipeline',Pipeline([\\\n",
    "                                                                         ('vect',CountVectorizer(tokenizer=tokenize)),\n",
    "                                                                          ('transformer',TfidfTransformer(smooth_idf=False))\n",
    "                                                                         ])),\n",
    "                                                ('counting_noun',NounCounter()),\n",
    "                                                ('counting_verb',VerbCounter())\n",
    "                                               ])\n",
    "                      ),\n",
    "                      ('clf',MultiOutputClassifier(RandomForestClassifier()))\n",
    "                     ])"
   ]
  },
  {
   "cell_type": "code",
   "execution_count": 11,
   "metadata": {},
   "outputs": [],
   "source": [
    "parameters2={'clf__estimator__n_estimators': [50, 100, 200],\\\n",
    "            }\n",
    "cv2 = GridSearchCV(pipeline2, param_grid=parameters2)"
   ]
  },
  {
   "cell_type": "code",
   "execution_count": 12,
   "metadata": {},
   "outputs": [
    {
     "data": {
      "text/plain": [
       "GridSearchCV(estimator=Pipeline(steps=[('features',\n",
       "                                        FeatureUnion(transformer_list=[('nlp_pipeline',\n",
       "                                                                        Pipeline(steps=[('vect',\n",
       "                                                                                         CountVectorizer(tokenizer=<function tokenize at 0x7fa7b22d1cb0>)),\n",
       "                                                                                        ('transformer',\n",
       "                                                                                         TfidfTransformer(smooth_idf=False))])),\n",
       "                                                                       ('counting_noun',\n",
       "                                                                        NounCounter()),\n",
       "                                                                       ('counting_verb',\n",
       "                                                                        VerbCounter())])),\n",
       "                                       ('clf',\n",
       "                                        MultiOutputClassifier(estimator=RandomForestClassifier()))]),\n",
       "             param_grid={'clf__estimator__n_estimators': [50, 100, 200]})"
      ]
     },
     "execution_count": 12,
     "metadata": {},
     "output_type": "execute_result"
    }
   ],
   "source": [
    "cv2.fit(X_train,y_train)"
   ]
  },
  {
   "cell_type": "code",
   "execution_count": 13,
   "metadata": {},
   "outputs": [],
   "source": [
    "y_pred=cv2.predict(X_test)"
   ]
  },
  {
   "cell_type": "code",
   "execution_count": 24,
   "metadata": {},
   "outputs": [
    {
     "data": {
      "text/plain": [
       "MultiOutputClassifier(estimator=RandomForestClassifier(n_estimators=200))"
      ]
     },
     "execution_count": 24,
     "metadata": {},
     "output_type": "execute_result"
    }
   ],
   "source": [
    "cv2.best_estimator_.named_steps[\"clf\"]"
   ]
  },
  {
   "cell_type": "code",
   "execution_count": 16,
   "metadata": {},
   "outputs": [
    {
     "name": "stderr",
     "output_type": "stream",
     "text": [
      "/home/pranay/anaconda3/lib/python3.7/site-packages/sklearn/metrics/_classification.py:1221: UndefinedMetricWarning: Precision and F-score are ill-defined and being set to 0.0 in labels with no predicted samples. Use `zero_division` parameter to control this behavior.\n",
      "  _warn_prf(average, modifier, msg_start, len(result))\n",
      "/home/pranay/anaconda3/lib/python3.7/site-packages/sklearn/metrics/_classification.py:1221: UndefinedMetricWarning: Recall and F-score are ill-defined and being set to 0.0 in labels with no true samples. Use `zero_division` parameter to control this behavior.\n",
      "  _warn_prf(average, modifier, msg_start, len(result))\n"
     ]
    },
    {
     "name": "stdout",
     "output_type": "stream",
     "text": [
      "                        precision    recall  f1-score   support\n",
      "\n",
      "               related       0.76      0.98      0.86      4931\n",
      "               request       0.47      0.05      0.09      1138\n",
      "                 offer       0.00      0.00      0.00        32\n",
      "           aid_related       0.45      0.19      0.26      2668\n",
      "          medical_help       0.00      0.00      0.00       507\n",
      "      medical_products       0.00      0.00      0.00       327\n",
      "     search_and_rescue       0.00      0.00      0.00       200\n",
      "              security       0.00      0.00      0.00       125\n",
      "              military       0.00      0.00      0.00       197\n",
      "           child_alone       0.00      0.00      0.00         0\n",
      "                 water       0.20      0.00      0.00       412\n",
      "                  food       0.17      0.00      0.01       726\n",
      "               shelter       0.12      0.01      0.01       585\n",
      "              clothing       0.00      0.00      0.00        93\n",
      "                 money       0.00      0.00      0.00       153\n",
      "        missing_people       0.00      0.00      0.00        83\n",
      "              refugees       0.00      0.00      0.00       214\n",
      "                 death       0.00      0.00      0.00       279\n",
      "             other_aid       0.12      0.01      0.02       853\n",
      "infrastructure_related       0.22      0.00      0.01       411\n",
      "             transport       0.00      0.00      0.00       269\n",
      "             buildings       0.22      0.01      0.01       318\n",
      "           electricity       0.00      0.00      0.00       128\n",
      "                 tools       0.00      0.00      0.00        41\n",
      "             hospitals       0.00      0.00      0.00        72\n",
      "                 shops       0.00      0.00      0.00        29\n",
      "           aid_centers       0.00      0.00      0.00        72\n",
      "  other_infrastructure       0.20      0.00      0.01       278\n",
      "       weather_related       0.60      0.16      0.26      1808\n",
      "                floods       0.25      0.00      0.00       535\n",
      "                 storm       0.48      0.03      0.05       598\n",
      "                  fire       0.00      0.00      0.00        62\n",
      "            earthquake       0.71      0.16      0.26       616\n",
      "                  cold       0.00      0.00      0.00       138\n",
      "         other_weather       0.33      0.00      0.01       348\n",
      "         direct_report       0.48      0.04      0.07      1284\n",
      "\n",
      "             micro avg       0.69      0.29      0.40     20530\n",
      "             macro avg       0.16      0.05      0.05     20530\n",
      "          weighted avg       0.43      0.29      0.28     20530\n",
      "           samples avg       0.70      0.35      0.40     20530\n",
      "\n"
     ]
    },
    {
     "name": "stderr",
     "output_type": "stream",
     "text": [
      "/home/pranay/anaconda3/lib/python3.7/site-packages/sklearn/metrics/_classification.py:1221: UndefinedMetricWarning: Precision and F-score are ill-defined and being set to 0.0 in samples with no predicted labels. Use `zero_division` parameter to control this behavior.\n",
      "  _warn_prf(average, modifier, msg_start, len(result))\n",
      "/home/pranay/anaconda3/lib/python3.7/site-packages/sklearn/metrics/_classification.py:1221: UndefinedMetricWarning: Recall and F-score are ill-defined and being set to 0.0 in samples with no true labels. Use `zero_division` parameter to control this behavior.\n",
      "  _warn_prf(average, modifier, msg_start, len(result))\n"
     ]
    }
   ],
   "source": [
    "print(classification_report(y_test, y_pred, target_names=y_cols) ) "
   ]
  },
  {
   "cell_type": "markdown",
   "metadata": {},
   "source": [
    "### 9. Export your model as a pickle file"
   ]
  },
  {
   "cell_type": "code",
   "execution_count": 29,
   "metadata": {},
   "outputs": [],
   "source": [
    "import pickle\n",
    "import os\n",
    "os.getcwd()\n",
    "pickle.dump(cv2.best_estimator_, open('/home/pranay/Workspace/Udacity/Data_Science/Project2/classifier.pkl', 'wb'))"
   ]
  },
  {
   "cell_type": "markdown",
   "metadata": {},
   "source": [
    "### 10. Use this notebook to complete `train.py`\n",
    "Use the template file attached in the Resources folder to write a script that runs the steps above to create a database and export a model based on a new dataset specified by the user."
   ]
  },
  {
   "cell_type": "code",
   "execution_count": null,
   "metadata": {},
   "outputs": [],
   "source": []
  }
 ],
 "metadata": {
  "kernelspec": {
   "display_name": "Python 3",
   "language": "python",
   "name": "python3"
  },
  "language_info": {
   "codemirror_mode": {
    "name": "ipython",
    "version": 3
   },
   "file_extension": ".py",
   "mimetype": "text/x-python",
   "name": "python",
   "nbconvert_exporter": "python",
   "pygments_lexer": "ipython3",
   "version": "3.7.9"
  }
 },
 "nbformat": 4,
 "nbformat_minor": 2
}
